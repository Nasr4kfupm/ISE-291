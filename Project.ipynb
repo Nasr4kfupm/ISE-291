{
 "cells": [
  {
   "cell_type": "markdown",
   "metadata": {},
   "source": [
    "## Data Preparation"
   ]
  },
  {
   "cell_type": "markdown",
   "metadata": {},
   "source": []
  }
 ],
 "metadata": {
  "kernelspec": {
   "display_name": "Python 3.9.13 ('base')",
   "language": "python",
   "name": "python3"
  },
  "language_info": {
   "name": "python",
   "version": "3.9.13"
  },
  "orig_nbformat": 4,
  "vscode": {
   "interpreter": {
    "hash": "77705b024bbeabd50537faa584f42879de3476a87e25b57f0c50228bac8986ea"
   }
  }
 },
 "nbformat": 4,
 "nbformat_minor": 2
}
